{
  "cells": [
    {
      "cell_type": "markdown",
      "metadata": {
        "id": "wJpXpmjEYC_T"
      },
      "source": [
        "# Exercise 9 - NLP\n",
        "### Training a language model\n",
        "\n",
        "Exercise based on the companion notebook to the [Zero To Hero](https://karpathy.ai/zero-to-hero.html) video on GPT."
      ]
    },
    {
      "cell_type": "markdown",
      "metadata": {
        "id": "CRNy9abx3XTT"
      },
      "source": [
        "Facts about language models\n",
        "*   **probabilistic models** --> one input - multiple outputs\n",
        "*   **sequentially** generate tokens\n",
        "*   Network basis is **Transformer**\n",
        "*   Speciality is **attention**\n",
        "\n",
        "\n",
        "\n",
        "\n"
      ]
    },
    {
      "cell_type": "markdown",
      "metadata": {
        "id": "5j2jLCLf4Dop"
      },
      "source": [
        "# How to deal with language based on strings, characters\n",
        "\n",
        "\n",
        "*   Transformation of characters into integers = tokenize\n",
        "*   Characters, words, sequence of words\n",
        "\n",
        "\n",
        "Tokenization\n",
        "\n",
        "*   [SentencePiece](https://github.com/google/sentencepiece)\n",
        "*   [tiktoken](https://github.com/openai/tiktoken)\n",
        "\n",
        "Example\n",
        "\n",
        "*   [OpenAI Tokenizer](https://platform.openai.com/tokenizer)\n",
        "\n"
      ]
    },
    {
      "cell_type": "code",
      "execution_count": null,
      "metadata": {
        "id": "h5hjCcLDr2WC"
      },
      "outputs": [],
      "source": [
        "# Dataset download from huggingface https://huggingface.co/datasets\n",
        "# Example: tiny shakespeare dataset\n",
        "\n",
        "import requests\n",
        "\n",
        "url = \"https://raw.githubusercontent.com/karpathy/char-rnn/master/data/tinyshakespeare/input.txt\"\n",
        "response = requests.get(url)\n",
        "\n",
        "with open(\"input.txt\", \"wb\") as f:\n",
        "    f.write(response.content)\n",
        "\n",
        "print(\"File downloaded as input.txt\")"
      ]
    },
    {
      "cell_type": "markdown",
      "metadata": {
        "id": "mD7D3fZO6Fa7"
      },
      "source": [
        "### Analyze dataset\n"
      ]
    },
    {
      "cell_type": "code",
      "execution_count": 4,
      "metadata": {
        "id": "O6medjfRsLD9"
      },
      "outputs": [],
      "source": [
        "# read it in to inspect it\n",
        "with open('input.txt', 'r', encoding='utf-8') as f:\n",
        "    text = f.read()"
      ]
    },
    {
      "cell_type": "code",
      "execution_count": null,
      "metadata": {
        "id": "6xWI_VyAsN8F"
      },
      "outputs": [],
      "source": [
        "# Print the length of the dataset\n",
        "print(\"length of dataset in characters: \", len(text))"
      ]
    },
    {
      "cell_type": "code",
      "execution_count": null,
      "metadata": {
        "id": "2c5V0FvqseE0"
      },
      "outputs": [],
      "source": [
        "# print first 50 characters\n",
        "print(text[:1000])"
      ]
    },
    {
      "cell_type": "code",
      "execution_count": null,
      "metadata": {
        "id": "0e-Rbyr8sfM8"
      },
      "outputs": [],
      "source": [
        "# inspect the unique characters that occur in this text\n",
        "\n",
        "chars = sorted(list(set(text)))\n",
        "vocab_size = len(chars)\n",
        "print(''.join(chars))\n",
        "print(vocab_size)"
      ]
    },
    {
      "cell_type": "code",
      "execution_count": null,
      "metadata": {
        "id": "Yw1LKNCgwjj1"
      },
      "outputs": [],
      "source": [
        "# create a mapping from characters to integers\n",
        "stoi = { ch:i for i,ch in enumerate(chars) }\n",
        "iots = { i:ch for i,ch in enumerate(chars) }\n",
        "\n",
        "# Encoder: take a string, output a list of integers\n",
        "encode = lambda s: [stoi[c] for c in s] \n",
        "# decoder: take a list of integers, output a string\n",
        "decode = lambda l: ''.join([iots[i] for i in l]) \n",
        "\n",
        "print(encode(\"hii there\"))\n",
        "print(decode(encode(\"hii there\")))"
      ]
    },
    {
      "cell_type": "code",
      "execution_count": null,
      "metadata": {
        "id": "YJb0OXPwzvqg"
      },
      "outputs": [],
      "source": [
        "# encode the entire text dataset and store it into a torch.Tensor\n",
        "\n",
        "import torch # we use PyTorch: https://pytorch.org\n",
        "data = torch.tensor(encode(text), dtype=torch.long)\n",
        "\n",
        "# Print first two entries of the dataset and the encoded version\n",
        "print(data.shape, data.dtype)\n",
        "print(data[:1000]) "
      ]
    },
    {
      "cell_type": "code",
      "execution_count": 10,
      "metadata": {
        "id": "f_WIXqxz0lU5"
      },
      "outputs": [],
      "source": [
        "# Preparing the dataset by splitting it into train and validation\n",
        "n = int(0.9*len(data)) # first 90% will be train, rest val\n",
        "\n",
        "train_data = data[:n]\n",
        "val_data = data[n:]"
      ]
    },
    {
      "cell_type": "markdown",
      "metadata": {},
      "source": [
        "### Chunks are a certain size of text which is sequentially generated\n"
      ]
    },
    {
      "cell_type": "code",
      "execution_count": null,
      "metadata": {
        "id": "TD5Bj8Y6IAD4"
      },
      "outputs": [],
      "source": [
        "# How to process the dataset by defining a block size\n",
        "block_size = 8\n",
        "\n",
        "# look into what is our x and y \n",
        "train_data[:block_size]"
      ]
    },
    {
      "cell_type": "code",
      "execution_count": null,
      "metadata": {
        "id": "9HXDe8vGJCEn"
      },
      "outputs": [],
      "source": [
        "# time dimension\n",
        "# x are the values and y are the predictions of the next step\n",
        "\n",
        "x = train_data[:block_size]\n",
        "y = train_data[1:block_size+1]\n",
        "\n",
        "for t in range(block_size):\n",
        "    context = x[:t+1]\n",
        "    target = y[t]\n",
        "    print(f\"when input is {context} the target: {target}\")"
      ]
    },
    {
      "cell_type": "code",
      "execution_count": null,
      "metadata": {
        "id": "Q3k1Czf7LuA9"
      },
      "outputs": [],
      "source": [
        "# process chunks simultaneously\n",
        "\n",
        "# Setting a seed\n",
        "torch.manual_seed(1337)\n",
        "\n",
        "batch_size = 4 # how many independent sequences will we process in parallel?\n",
        "block_size = 8 # what is the maximum context length for predictions?\n",
        "\n",
        "def get_batch(split):\n",
        "    # generate a small batch of data of inputs x and targets y\n",
        "    data = train_data if split == 'train' else val_data\n",
        "    ix = torch.randint(len(data) - block_size, (batch_size,)) # random positions with random offsets\n",
        "    x = torch.stack([data[i:i+block_size] for i in ix])\n",
        "    y = torch.stack([data[i+1:i+block_size+1] for i in ix])\n",
        "    return x, y\n",
        "\n",
        "# retrieve one batch of data\n",
        "xb, yb = get_batch('train')\n",
        "\n",
        "# Look into shape and content of the batch\n",
        "print('inputs:')\n",
        "print(xb.shape)\n",
        "print(xb)\n",
        "\n",
        "print('targets:')\n",
        "print(yb.shape)\n",
        "print(yb)\n",
        "\n",
        "print('----')\n",
        "\n",
        "# Print out training dat\n",
        "for b in range(batch_size): # batch dimension\n",
        "    for t in range(block_size): # time dimension\n",
        "        context = xb[b, :t+1]\n",
        "        target = yb[b,t]\n",
        "        print(f\"when input is {context.tolist()} the target: {target}\")"
      ]
    },
    {
      "cell_type": "code",
      "execution_count": null,
      "metadata": {
        "id": "qpyyAeIzQjlO"
      },
      "outputs": [],
      "source": [
        "# What does our input look like?\n",
        "print(xb) "
      ]
    },
    {
      "cell_type": "markdown",
      "metadata": {
        "id": "exQRhmzA7Bhn"
      },
      "source": [
        "### Training a BigramLanguageModel on the shakespear dataset\n",
        "\n",
        "\n",
        "*   Embedding table = encodes the vwhole vocabulary\n",
        "*   Logits = score for the probability to be the next character\n",
        "*   Loss = evaluate model\n",
        "\n"
      ]
    },
    {
      "cell_type": "code",
      "execution_count": null,
      "metadata": {
        "id": "nql_1ER53oCf"
      },
      "outputs": [],
      "source": [
        "import torch\n",
        "import torch.nn as nn\n",
        "from torch.nn import functional as F\n",
        "torch.manual_seed(1337)\n",
        "\n",
        "class BigramLanguageModel(nn.Module):\n",
        "\n",
        "    def __init__(self, vocab_size):\n",
        "        super().__init__()\n",
        "        # each token directly reads off the logits for the next token from a lookup table\n",
        "        self.token_embedding_table = nn.Embedding(vocab_size, vocab_size) #nn.Embedding just a wrapper of vocab size x vocab size\n",
        "\n",
        "    def forward(self, idx, targets=None):\n",
        "\n",
        "        # idx and targets are both (B,T) tensor of integers\n",
        "        # logits are the score of the next character; no context\n",
        "        logits = self.token_embedding_table(idx) # (B,T,C) # just plugs out exactly the row of the wrapper at the specific idx\n",
        "\n",
        "\n",
        "        if targets is None:\n",
        "            loss = None\n",
        "        else:\n",
        "          # have to rearrange dimensions because cross-entropy wants them differently\n",
        "            B, T, C = logits.shape\n",
        "            logits = logits.view(B*T, C)\n",
        "            targets = targets.view(B*T)\n",
        "            # negative loglikelihood loss\n",
        "            loss = F.cross_entropy(logits, targets)\n",
        "\n",
        "        return logits, loss\n",
        "\n",
        "    def generate(self, idx, max_new_tokens):\n",
        "        # idx is (B, T) array of indices in the current context\n",
        "        for _ in range(max_new_tokens):\n",
        "            # get the predictions\n",
        "            logits, loss = self(idx) # --> adapt forward as we dont need loss for all calling\n",
        "            # focus only on the last time step\n",
        "            logits = logits[:, -1, :] # becomes (B, C) - last element in the time dimension\n",
        "            # apply softmax to get probabilities\n",
        "            probs = F.softmax(logits, dim=-1) # (B, C)\n",
        "            # sample from the distribution\n",
        "            idx_next = torch.multinomial(probs, num_samples=1) # (B, 1)\n",
        "            # append sampled index to the running sequence\n",
        "            idx = torch.cat((idx, idx_next), dim=1) # (B, T+1)\n",
        "        return idx\n",
        "\n",
        "m = BigramLanguageModel(vocab_size)\n",
        "logits, loss = m(xb, yb)\n",
        "print(logits.shape)\n",
        "print(loss)\n",
        "\n",
        "\n",
        "# Garbage because it is just a random model without any information\n",
        "idx = torch.zeros((1, 1), dtype=torch.long)\n",
        "\n",
        "print(decode(m.generate(idx, max_new_tokens=100)[0].tolist()))\n"
      ]
    },
    {
      "cell_type": "markdown",
      "metadata": {},
      "source": [
        "### Improve performance of BigramLanguageModel"
      ]
    },
    {
      "cell_type": "code",
      "execution_count": 16,
      "metadata": {
        "id": "eTyJ8qAaDdiF"
      },
      "outputs": [],
      "source": [
        "# Improve performance by creating a PyTorch optimizer\n",
        "optimizer = torch.optim.AdamW(m.parameters(), lr=1e-3)"
      ]
    },
    {
      "cell_type": "code",
      "execution_count": null,
      "metadata": {
        "id": "Hs4kI8YdEkQj"
      },
      "outputs": [],
      "source": [
        "batch_size = 32\n",
        "for steps in range(100): # increase number of steps for good results...\n",
        "\n",
        "    # sample a batch of data\n",
        "    xb, yb = get_batch('train')\n",
        "\n",
        "    # evaluate the loss\n",
        "    logits, loss = m(xb, yb)\n",
        "    optimizer.zero_grad(set_to_none=True)\n",
        "    loss.backward()\n",
        "    optimizer.step()\n",
        "\n",
        "print(loss.item())\n"
      ]
    },
    {
      "cell_type": "code",
      "execution_count": null,
      "metadata": {
        "id": "EcVIDWAZEtjN"
      },
      "outputs": [],
      "source": [
        "print(decode(m.generate(idx = torch.zeros((1, 1), dtype=torch.long), max_new_tokens=500)[0].tolist()))"
      ]
    },
    {
      "cell_type": "markdown",
      "metadata": {
        "id": "XinV8nmAnmKN"
      },
      "source": [
        "# How to include more information in the model.\n",
        "### The trick is self-attention\n",
        "\n",
        "![image.png](data:image/png;base64,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)\n",
        "\n",
        "cite [https://proceedings.neurips.cc/paper_files/paper/2017/file/3f5ee243547dee91fbd053c1c4a845aa-Paper.pdf]"
      ]
    },
    {
      "cell_type": "markdown",
      "metadata": {
        "id": "G2cxRLol8nfw"
      },
      "source": [
        "### Matrix multiplication as short introduction"
      ]
    },
    {
      "cell_type": "code",
      "execution_count": null,
      "metadata": {
        "id": "tukiH-NbRBhA"
      },
      "outputs": [],
      "source": [
        "# \"weighted aggregation over only essential information for text generation\"\n",
        "torch.manual_seed(42)\n",
        "a = torch.tril(torch.ones(3, 3))\n",
        "a = a / torch.sum(a, 1, keepdim=True)\n",
        "b = torch.randint(0,10,(3,2)).float()\n",
        "c = a @ b\n",
        "print('a=')\n",
        "print(a)\n",
        "print('--')\n",
        "print('b=')\n",
        "print(b)\n",
        "print('--')\n",
        "print('c=')\n",
        "print(c)"
      ]
    },
    {
      "cell_type": "markdown",
      "metadata": {},
      "source": [
        "### Example refering to our attention mechanism"
      ]
    },
    {
      "cell_type": "code",
      "execution_count": null,
      "metadata": {
        "id": "EDarxEWIRMKq"
      },
      "outputs": [],
      "source": [
        "# self attention \n",
        "# information of the past, like i have a vowl and i want to get the information that it is most likely that a consonant follows\n",
        "# self-attention because key, query and val comes all from the same source\n",
        "\n",
        "torch.manual_seed(1337)\n",
        "B,T,C = 4,8,32 # batch, time, channels\n",
        "x = torch.randn(B,T,C)\n",
        "\n",
        "# let's see a single Head perform self-attention - hyperparameter head size\n",
        "head_size = 16\n",
        "key = nn.Linear(C, head_size, bias=False) # what do i contain\n",
        "query = nn.Linear(C, head_size, bias=False) # what am i looking for\n",
        "value = nn.Linear(C, head_size, bias=False)\n",
        "k = key(x)   # (B, T, 16)\n",
        "q = query(x) # (B, T, 16)\n",
        "\n",
        "# now there is a communication\n",
        "wei =  q @ k.transpose(-2, -1) # (B, T, 16) @ (B, 16, T) ---> (B, T, T) # affinities\n",
        "\n",
        "tril = torch.tril(torch.ones(T, T))\n",
        "#wei = torch.zeros((T,T))\n",
        "wei = wei.masked_fill(tril == 0, float('-inf')) # decoder form nodes of the future dont talk to the past\n",
        "wei = F.softmax(wei, dim=-1)\n",
        "\n",
        "v = value(x)\n",
        "out = wei @ v\n",
        "#out = wei @ x\n",
        "\n",
        "out.shape"
      ]
    },
    {
      "cell_type": "code",
      "execution_count": null,
      "metadata": {
        "id": "vT1hdtzXCjgL"
      },
      "outputs": [],
      "source": [
        "# print out the first element of the weights\n",
        "wei[0] "
      ]
    },
    {
      "cell_type": "markdown",
      "metadata": {
        "id": "M5CvobiQ0pLr"
      },
      "source": [
        "### Some facts about attention:\n",
        "\n",
        "- Attention is a **communication mechanism**. Can be seen as nodes in a directed graph looking at each other and aggregating information with a weighted sum from all nodes that point to them, with data-dependent weights.\n",
        "\n",
        "- There is no notion of space. Attention simply acts over a set of vectors. This is why we need to positionally encode tokens.\n",
        "\n",
        "- Each example across batch dimension is of course processed completely independently and never \"talk\" to each other\n",
        "\n",
        "- In an \"encoder\" attention block just delete the single line that does masking with `tril`, allowing all tokens to communicate. This block here is called a \"decoder\" attention block because it has triangular masking, and is usually used in autoregressive settings, like language modeling.\n",
        "\n",
        "- \"self-attention\" just means that the keys and values are produced from the same source as queries. In \"cross-attention\", the queries still get produced from x, but the keys and values come from some other, external source (e.g. an encoder module)\n",
        "\n"
      ]
    },
    {
      "cell_type": "markdown",
      "metadata": {
        "id": "ZcvKeBXoZFOY"
      },
      "source": [
        "# Code of language model focusing on decoder part of transformer\n",
        "\n",
        "https://github.com/karpathy\n",
        "\n",
        "![image.png](data:image/png;base64,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)\n",
        "\n",
        "cite [https://proceedings.neurips.cc/paper_files/paper/2017/file/3f5ee243547dee91fbd053c1c4a845aa-Paper.pdf]"
      ]
    },
    {
      "cell_type": "code",
      "execution_count": null,
      "metadata": {
        "id": "hoelkOrFY8bN"
      },
      "outputs": [],
      "source": [
        "import torch\n",
        "import torch.nn as nn\n",
        "from torch.nn import functional as F\n",
        "\n",
        "# hyperparameters\n",
        "batch_size = 16 # how many independent sequences will we process in parallel?\n",
        "block_size = 32 # 256 what is the maximum context length for predictions? BLOCK SIZE WHICH IS USED\n",
        "max_iters = 5000\n",
        "eval_interval = 100 # 500\n",
        "learning_rate = 1e-3\n",
        "device = 'cuda' if torch.cuda.is_available() else 'cpu'\n",
        "eval_iters = 200\n",
        "n_embd = 64 # 384\n",
        "n_head = 4 # 6\n",
        "n_layer = 4 # 6\n",
        "dropout = 0.0\n",
        "# ------------\n",
        "\n",
        "torch.manual_seed(1337)\n",
        "\n",
        "# wget https://raw.githubusercontent.com/karpathy/char-rnn/master/data/tinyshakespeare/input.txt\n",
        "with open('input.txt', 'r', encoding='utf-8') as f:\n",
        "    text = f.read()\n",
        "\n",
        "# here are all the unique characters that occur in this text\n",
        "chars = sorted(list(set(text)))\n",
        "vocab_size = len(chars)\n",
        "# create a mapping from characters to integers\n",
        "stoi = { ch:i for i,ch in enumerate(chars) }\n",
        "itos = { i:ch for i,ch in enumerate(chars) }\n",
        "encode = lambda s: [stoi[c] for c in s] # encoder: take a string, output a list of integers\n",
        "decode = lambda l: ''.join([itos[i] for i in l]) # decoder: take a list of integers, output a string\n",
        "\n",
        "# Train and test splits\n",
        "data = torch.tensor(encode(text), dtype=torch.long)\n",
        "n = int(0.9*len(data)) # first 90% will be train, rest val\n",
        "train_data = data[:n]\n",
        "val_data = data[n:]\n",
        "\n",
        "# data loading\n",
        "def get_batch(split):\n",
        "    # generate a small batch of data of inputs x and targets y\n",
        "    data = train_data if split == 'train' else val_data\n",
        "    ix = torch.randint(len(data) - block_size, (batch_size,))\n",
        "    x = torch.stack([data[i:i+block_size] for i in ix])\n",
        "    y = torch.stack([data[i+1:i+block_size+1] for i in ix])\n",
        "    x, y = x.to(device), y.to(device)\n",
        "    return x, y\n",
        "\n",
        "@torch.no_grad() # no backpropagation\n",
        "def estimate_loss():\n",
        "    out = {}\n",
        "    model.eval()\n",
        "    for split in ['train', 'val']:\n",
        "        losses = torch.zeros(eval_iters)\n",
        "        for k in range(eval_iters):\n",
        "            X, Y = get_batch(split)\n",
        "            logits, loss = model(X, Y)\n",
        "            losses[k] = loss.item()\n",
        "        out[split] = losses.mean()\n",
        "    model.train()\n",
        "    return out\n",
        "\n",
        "class Head(nn.Module):\n",
        "    \"\"\" one head of self-attention \"\"\"\n",
        "\n",
        "    def __init__(self, head_size):\n",
        "        super().__init__()\n",
        "        self.key = nn.Linear(n_embd, head_size, bias=False)\n",
        "        self.query = nn.Linear(n_embd, head_size, bias=False)\n",
        "        self.value = nn.Linear(n_embd, head_size, bias=False)\n",
        "        self.register_buffer('tril', torch.tril(torch.ones(block_size, block_size)))\n",
        "\n",
        "        self.dropout = nn.Dropout(dropout)\n",
        "\n",
        "    def forward(self, x):\n",
        "        B,T,C = x.shape\n",
        "        k = self.key(x)   # (B,T,C)\n",
        "        q = self.query(x) # (B,T,C)\n",
        "        # compute attention scores (\"affinities\")\n",
        "        wei = q @ k.transpose(-2,-1) * C**-0.5 # (B, T, C) @ (B, C, T) -> (B, T, T)\n",
        "        wei = wei.masked_fill(self.tril[:T, :T] == 0, float('-inf')) # (B, T, T) # bicoder block\n",
        "        wei = F.softmax(wei, dim=-1) # (B, T, T)\n",
        "        wei = self.dropout(wei)\n",
        "        # perform the weighted aggregation of the values\n",
        "        v = self.value(x) # (B,T,C)\n",
        "        out = wei @ v # (B, T, T) @ (B, T, C) -> (B, T, C)\n",
        "        return out\n",
        "\n",
        "class MultiHeadAttention(nn.Module):\n",
        "    \"\"\" multiple heads of self-attention in parallel \"\"\"\n",
        "\n",
        "    def __init__(self, num_heads, head_size):\n",
        "        super().__init__()\n",
        "        self.heads = nn.ModuleList([Head(head_size) for _ in range(num_heads)])\n",
        "        self.proj = nn.Linear(n_embd, n_embd)\n",
        "        self.dropout = nn.Dropout(dropout)\n",
        "\n",
        "    def forward(self, x):\n",
        "        out = torch.cat([h(x) for h in self.heads], dim=-1)\n",
        "        out = self.dropout(self.proj(out))\n",
        "        return out\n",
        "\n",
        "class FeedFoward(nn.Module):\n",
        "    \"\"\" a simple linear layer followed by a non-linearity \"\"\" # per token idea\n",
        "\n",
        "    def __init__(self, n_embd):\n",
        "        super().__init__()\n",
        "        self.net = nn.Sequential(\n",
        "            nn.Linear(n_embd, 4 * n_embd),\n",
        "            nn.ReLU(),\n",
        "            nn.Linear(4 * n_embd, n_embd),\n",
        "            nn.Dropout(dropout),\n",
        "        )\n",
        "\n",
        "    def forward(self, x):\n",
        "        return self.net(x)\n",
        "\n",
        "class Block(nn.Module):\n",
        "    \"\"\" Transformer block: communication followed by computation \"\"\"\n",
        "\n",
        "    def __init__(self, n_embd, n_head):\n",
        "        # n_embd: embedding dimension, n_head: the number of heads we'd like\n",
        "        super().__init__()\n",
        "        head_size = n_embd // n_head\n",
        "        self.sa = MultiHeadAttention(n_head, head_size)\n",
        "        self.ffwd = FeedFoward(n_embd)\n",
        "        self.ln1 = nn.LayerNorm(n_embd)\n",
        "        self.ln2 = nn.LayerNorm(n_embd)\n",
        "\n",
        "    def forward(self, x):\n",
        "        x = x + self.sa(self.ln1(x))\n",
        "        x = x + self.ffwd(self.ln2(x))\n",
        "        return x\n",
        "\n",
        "# super simple bigram model\n",
        "class BigramLanguageModel(nn.Module):\n",
        "\n",
        "    def __init__(self):\n",
        "        super().__init__()\n",
        "        # each token directly reads off the logits for the next token from a lookup table\n",
        "        self.token_embedding_table = nn.Embedding(vocab_size, n_embd)\n",
        "        self.position_embedding_table = nn.Embedding(block_size, n_embd)\n",
        "        self.blocks = nn.Sequential(*[Block(n_embd, n_head=n_head) for _ in range(n_layer)])\n",
        "        self.ln_f = nn.LayerNorm(n_embd) # final layer norm\n",
        "        self.lm_head = nn.Linear(n_embd, vocab_size)\n",
        "\n",
        "    def forward(self, idx, targets=None):\n",
        "        B, T = idx.shape\n",
        "\n",
        "        # idx and targets are both (B,T) tensor of integers\n",
        "        tok_emb = self.token_embedding_table(idx) # (B,T,C)\n",
        "        pos_emb = self.position_embedding_table(torch.arange(T, device=device)) # (T,C)\n",
        "        x = tok_emb + pos_emb # (B,T,C)\n",
        "        x = self.blocks(x) # (B,T,C)\n",
        "        x = self.ln_f(x) # (B,T,C)\n",
        "        logits = self.lm_head(x) # (B,T,vocab_size)\n",
        "\n",
        "        if targets is None:\n",
        "            loss = None\n",
        "        else:\n",
        "            B, T, C = logits.shape\n",
        "            logits = logits.view(B*T, C)\n",
        "            targets = targets.view(B*T)\n",
        "            loss = F.cross_entropy(logits, targets)\n",
        "\n",
        "        return logits, loss\n",
        "\n",
        "    def generate(self, idx, max_new_tokens):\n",
        "        # idx is (B, T) array of indices in the current context\n",
        "        for _ in range(max_new_tokens):\n",
        "            # crop idx to the last block_size tokens\n",
        "            idx_cond = idx[:, -block_size:]\n",
        "            # get the predictions\n",
        "            logits, loss = self(idx_cond)\n",
        "            # focus only on the last time step\n",
        "            logits = logits[:, -1, :] # becomes (B, C)\n",
        "            # apply softmax to get probabilities\n",
        "            probs = F.softmax(logits, dim=-1) # (B, C)\n",
        "            # sample from the distribution\n",
        "            idx_next = torch.multinomial(probs, num_samples=1) # (B, 1)\n",
        "            # append sampled index to the running sequence\n",
        "            idx = torch.cat((idx, idx_next), dim=1) # (B, T+1)\n",
        "        return idx\n",
        "\n",
        "model = BigramLanguageModel()\n",
        "m = model.to(device)\n",
        "# print the number of parameters in the model\n",
        "print(sum(p.numel() for p in m.parameters())/1e6, 'M parameters')\n",
        "\n",
        "# create a PyTorch optimizer\n",
        "optimizer = torch.optim.AdamW(model.parameters(), lr=learning_rate)\n",
        "\n",
        "for iter in range(max_iters):\n",
        "\n",
        "    # every once in a while evaluate the loss on train and val sets\n",
        "    if iter % eval_interval == 0 or iter == max_iters - 1:\n",
        "        losses = estimate_loss()\n",
        "        print(f\"step {iter}: train loss {losses['train']:.4f}, val loss {losses['val']:.4f}\")\n",
        "\n",
        "    # sample a batch of data\n",
        "    xb, yb = get_batch('train')\n",
        "\n",
        "    # evaluate the loss\n",
        "    logits, loss = model(xb, yb)\n",
        "    optimizer.zero_grad(set_to_none=True)\n",
        "    loss.backward()\n",
        "    optimizer.step()\n",
        "\n",
        "# generate from the model\n",
        "context = torch.zeros((1, 1), dtype=torch.long, device=device)\n",
        "print(decode(m.generate(context, max_new_tokens=2000)[0].tolist()))\n"
      ]
    },
    {
      "cell_type": "code",
      "execution_count": null,
      "metadata": {
        "id": "fjjvMifYZf7x"
      },
      "outputs": [],
      "source": []
    }
  ],
  "metadata": {
    "colab": {
      "provenance": []
    },
    "kernelspec": {
      "display_name": "Python 3",
      "language": "python",
      "name": "python3"
    },
    "language_info": {
      "codemirror_mode": {
        "name": "ipython",
        "version": 3
      },
      "file_extension": ".py",
      "mimetype": "text/x-python",
      "name": "python",
      "nbconvert_exporter": "python",
      "pygments_lexer": "ipython3",
      "version": "3.9.18"
    }
  },
  "nbformat": 4,
  "nbformat_minor": 0
}
